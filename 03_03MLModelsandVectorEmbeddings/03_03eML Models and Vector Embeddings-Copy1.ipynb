{
 "cells": [
  {
   "cell_type": "markdown",
   "id": "46a385f0",
   "metadata": {},
   "source": [
    "1. Start the Weaviate instance: `docker compose up`\n",
    "2. Run code below"
   ]
  },
  {
   "cell_type": "code",
   "execution_count": 26,
   "id": "262599c7",
   "metadata": {},
   "outputs": [],
   "source": [
    "import pickle, weaviate, json, os, IPython"
   ]
  },
  {
   "cell_type": "code",
   "execution_count": 27,
   "id": "b7710250",
   "metadata": {},
   "outputs": [
    {
     "name": "stdout",
     "output_type": "stream",
     "text": [
      "Client created? True\n"
     ]
    }
   ],
   "source": [
    "client = weaviate.Client(\"http://localhost:8080\")\n",
    "\n",
    "print(f\"Client created? {client.is_ready()}\")"
   ]
  },
  {
   "cell_type": "code",
   "execution_count": 28,
   "id": "e088db7d",
   "metadata": {},
   "outputs": [],
   "source": [
    "current_schemas = client.schema.get()['classes']\n",
    "for schema in current_schemas:\n",
    "    if schema['class']=='ClipExample':\n",
    "        client.schema.delete_class('ClipExample')"
   ]
  },
  {
   "cell_type": "code",
   "execution_count": 29,
   "id": "a4bb1e12",
   "metadata": {},
   "outputs": [
    {
     "name": "stdout",
     "output_type": "stream",
     "text": [
      "Schema class created\n"
     ]
    }
   ],
   "source": [
    "class_obj = {\n",
    "    \"class\": \"ClipExample\",\n",
    "        \"moduleConfig\": {\n",
    "        \"multi2vec-clip\": {\"imageFields\": [\"image\"]}\n",
    "      },\n",
    "        \"vectorizer\": \"multi2vec-clip\",\n",
    "        \"properties\": [{\"name\": \"text\", \"dataType\": [\"string\"]},\n",
    "                       {\"name\": \"image\", \"dataType\": [\"blob\"]}\n",
    "        ]\n",
    "    }\n",
    "\n",
    "client.schema.create_class(class_obj)\n",
    "print(\"Schema class created\")\n"
   ]
  },
  {
   "cell_type": "code",
   "execution_count": 31,
   "id": "900c8aa5",
   "metadata": {},
   "outputs": [
    {
     "name": "stdout",
     "output_type": "stream",
     "text": [
      "Images added\n"
     ]
    }
   ],
   "source": [
    "for img in os.listdir(\"Images/\"):\n",
    "    \n",
    "    print(f\"Images/{img}\")\n",
    "    \n",
    "    encoded_image = weaviate.util.image_encoder_b64(f\"Images/{img}\")\n",
    "    \n",
    "    data_properties = {\n",
    "        \"image\": encoded_image,\n",
    "        \"text\": img\n",
    "    }\n",
    "    client.data_object.create(data_properties, \"ClipExample\")\n",
    "\n",
    "print(\"Images added\")"
   ]
  },
  {
   "cell_type": "markdown",
   "id": "5244e5f7",
   "metadata": {},
   "source": [
    "### Text to image search"
   ]
  },
  {
   "cell_type": "code",
   "execution_count": null,
   "id": "5b458d52",
   "metadata": {},
   "outputs": [],
   "source": [
    "res = (client.query\n",
    "       .get(\"ClipExample\", [\"text\", \"_additional {distance} \"])\n",
    "       .with_near_text({\"concepts\": [\"open sea beach\"]})\n",
    "       .with_limit(5)\n",
    "       .do()\n",
    "      )\n",
    "\n",
    "print(json.dumps(res,indent=2))"
   ]
  },
  {
   "cell_type": "code",
   "execution_count": null,
   "id": "4359999a",
   "metadata": {},
   "outputs": [],
   "source": [
    "IPython.display.Image(filename='Images/Spiral staircase_LIL_134156.jpg', width=300) "
   ]
  },
  {
   "cell_type": "code",
   "execution_count": null,
   "id": "65872629",
   "metadata": {},
   "outputs": [],
   "source": [
    "IPython.display.Image(filename='Images/Spiral staircase_LIL_134156.jpg', width=300) "
   ]
  },
  {
   "cell_type": "code",
   "execution_count": null,
   "id": "486cbd03",
   "metadata": {},
   "outputs": [],
   "source": [
    "res = (client.query\n",
    "       .get(\"ClipExample\", [\"text\", \"_additional {distance} \"])\n",
    "       .with_near_text({\"concepts\": [\"greenery and trees\"]})\n",
    "       .with_limit(5)\n",
    "       .do()\n",
    "      )\n",
    "\n",
    "print(json.dumps(res,indent=2))"
   ]
  },
  {
   "cell_type": "code",
   "execution_count": null,
   "id": "e34275cb",
   "metadata": {},
   "outputs": [],
   "source": [
    "IPython.display.Image(filename='Images/Spiral staircase_LIL_134156.jpg', width=300) "
   ]
  },
  {
   "cell_type": "code",
   "execution_count": null,
   "id": "4598cd7c",
   "metadata": {},
   "outputs": [],
   "source": [
    "IPython.display.Image(filename='Images/Spiral staircase_LIL_134156.jpg', width=300) "
   ]
  },
  {
   "cell_type": "markdown",
   "id": "6250a3e9",
   "metadata": {},
   "source": [
    "### Image to image search"
   ]
  },
  {
   "cell_type": "code",
   "execution_count": null,
   "id": "e4fe9fd4",
   "metadata": {},
   "outputs": [],
   "source": [
    "IPython.display.Image(filename='TestImages/Beach with a building_LIL_134146.jpg',width=300) "
   ]
  },
  {
   "cell_type": "code",
   "execution_count": null,
   "id": "0020ff76",
   "metadata": {
    "scrolled": true
   },
   "outputs": [],
   "source": [
    "imres = (client.query\n",
    "         .get(\"ClipExample\", [\"text\", \"_additional {certainty} \"])\n",
    "         .with_near_image({'image':'TestImages/Beach with a building_LIL_134146.jpg'})\n",
    "         .with_limit(5)\n",
    "         .do())\n",
    "\n",
    "print(json.dumps(imres,indent=2))"
   ]
  },
  {
   "cell_type": "code",
   "execution_count": null,
   "id": "cad02151",
   "metadata": {},
   "outputs": [],
   "source": [
    "IPython.display.Image(filename='Images/Big Sur_ California_LIL_9678.jpg',width=300) "
   ]
  },
  {
   "cell_type": "code",
   "execution_count": null,
   "id": "3f05427d",
   "metadata": {},
   "outputs": [],
   "source": [
    "IPython.display.Image(filename='TestImages/Cat outside_LIL_134200.jpg',width=300) "
   ]
  },
  {
   "cell_type": "code",
   "execution_count": null,
   "id": "0961c5d1",
   "metadata": {},
   "outputs": [],
   "source": []
  },
  {
   "cell_type": "code",
   "execution_count": null,
   "id": "c0fb38b5",
   "metadata": {},
   "outputs": [],
   "source": [
    "IPython.display.Image(filename='TestImages/Cat outside_LIL_134200.jpg',width=300) "
   ]
  },
  {
   "cell_type": "code",
   "execution_count": null,
   "id": "08ae199a",
   "metadata": {},
   "outputs": [],
   "source": [
    "imres = (client.query\n",
    "         .get(\"ClipExample\", [\"text\", \"_additional {certainty} \"])\n",
    "         .with_near_image({'image':'TestImages/Cat outside_LIL_134200.jpg'})\n",
    "         .with_limit(1)\n",
    "         .do())\n",
    "\n",
    "print(json.dumps(imres,indent=2))"
   ]
  },
  {
   "cell_type": "code",
   "execution_count": null,
   "id": "3baaec1f",
   "metadata": {},
   "outputs": [],
   "source": [
    "IPython.display.Image(filename='Images/Cat_LIL_134138.jpg',width=300) "
   ]
  }
 ],
 "metadata": {
  "kernelspec": {
   "display_name": "Python 3 (ipykernel)",
   "language": "python",
   "name": "python3"
  },
  "language_info": {
   "codemirror_mode": {
    "name": "ipython",
    "version": 3
   },
   "file_extension": ".py",
   "mimetype": "text/x-python",
   "name": "python",
   "nbconvert_exporter": "python",
   "pygments_lexer": "ipython3",
   "version": "3.11.4"
  }
 },
 "nbformat": 4,
 "nbformat_minor": 5
}
